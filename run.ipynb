{
 "cells": [
  {
   "cell_type": "code",
   "execution_count": 4,
   "outputs": [],
   "source": [
    "from ImageAnalysis import ImageAnalysis"
   ],
   "metadata": {
    "collapsed": false,
    "pycharm": {
     "name": "#%%\n"
    }
   }
  },
  {
   "cell_type": "code",
   "execution_count": 5,
   "outputs": [],
   "source": [
    "source_path=\"./source/\"\n",
    "target_path=\"./target/\""
   ],
   "metadata": {
    "collapsed": false,
    "pycharm": {
     "name": "#%%\n"
    }
   }
  },
  {
   "cell_type": "code",
   "execution_count": 6,
   "outputs": [
    {
     "data": {
      "text/plain": "    File_Name       PSNR      SSIM\n0           1  26.120750  0.972537\n1          10  21.303112  0.917445\n2         100  21.340046  0.918732\n3         101  27.410877  0.957585\n4         102  22.707523  0.948844\n..        ...        ...       ...\n176        95  16.504349  0.843611\n177        96  15.573280  0.728710\n178        97  20.817156  0.916475\n179        98  29.260843  0.987580\n180        99  28.042656  0.979906\n\n[181 rows x 3 columns]",
      "text/html": "<div>\n<style scoped>\n    .dataframe tbody tr th:only-of-type {\n        vertical-align: middle;\n    }\n\n    .dataframe tbody tr th {\n        vertical-align: top;\n    }\n\n    .dataframe thead th {\n        text-align: right;\n    }\n</style>\n<table border=\"1\" class=\"dataframe\">\n  <thead>\n    <tr style=\"text-align: right;\">\n      <th></th>\n      <th>File_Name</th>\n      <th>PSNR</th>\n      <th>SSIM</th>\n    </tr>\n  </thead>\n  <tbody>\n    <tr>\n      <th>0</th>\n      <td>1</td>\n      <td>26.120750</td>\n      <td>0.972537</td>\n    </tr>\n    <tr>\n      <th>1</th>\n      <td>10</td>\n      <td>21.303112</td>\n      <td>0.917445</td>\n    </tr>\n    <tr>\n      <th>2</th>\n      <td>100</td>\n      <td>21.340046</td>\n      <td>0.918732</td>\n    </tr>\n    <tr>\n      <th>3</th>\n      <td>101</td>\n      <td>27.410877</td>\n      <td>0.957585</td>\n    </tr>\n    <tr>\n      <th>4</th>\n      <td>102</td>\n      <td>22.707523</td>\n      <td>0.948844</td>\n    </tr>\n    <tr>\n      <th>...</th>\n      <td>...</td>\n      <td>...</td>\n      <td>...</td>\n    </tr>\n    <tr>\n      <th>176</th>\n      <td>95</td>\n      <td>16.504349</td>\n      <td>0.843611</td>\n    </tr>\n    <tr>\n      <th>177</th>\n      <td>96</td>\n      <td>15.573280</td>\n      <td>0.728710</td>\n    </tr>\n    <tr>\n      <th>178</th>\n      <td>97</td>\n      <td>20.817156</td>\n      <td>0.916475</td>\n    </tr>\n    <tr>\n      <th>179</th>\n      <td>98</td>\n      <td>29.260843</td>\n      <td>0.987580</td>\n    </tr>\n    <tr>\n      <th>180</th>\n      <td>99</td>\n      <td>28.042656</td>\n      <td>0.979906</td>\n    </tr>\n  </tbody>\n</table>\n<p>181 rows × 3 columns</p>\n</div>"
     },
     "execution_count": 6,
     "metadata": {},
     "output_type": "execute_result"
    }
   ],
   "source": [
    "analysis = ImageAnalysis(source_path, target_path)\n",
    "analysis.build()\n",
    "\n",
    "analysis.df"
   ],
   "metadata": {
    "collapsed": false,
    "pycharm": {
     "name": "#%%\n"
    }
   }
  },
  {
   "cell_type": "code",
   "execution_count": 7,
   "outputs": [
    {
     "name": "stdout",
     "output_type": "stream",
     "text": [
      "Average PSNR = 23.2433\n",
      "Average SSIM = 0.9331\n"
     ]
    }
   ],
   "source": [
    "avg_psnr, avg_ssim = analysis.summary()\n",
    "\n",
    "print(f\"Average PSNR = {avg_psnr:.4f}\")\n",
    "print(f\"Average SSIM = {avg_ssim:.4f}\")\n"
   ],
   "metadata": {
    "collapsed": false,
    "pycharm": {
     "name": "#%%\n"
    }
   }
  }
 ],
 "metadata": {
  "kernelspec": {
   "display_name": "Python 3",
   "language": "python",
   "name": "python3"
  },
  "language_info": {
   "codemirror_mode": {
    "name": "ipython",
    "version": 2
   },
   "file_extension": ".py",
   "mimetype": "text/x-python",
   "name": "python",
   "nbconvert_exporter": "python",
   "pygments_lexer": "ipython2",
   "version": "2.7.6"
  }
 },
 "nbformat": 4,
 "nbformat_minor": 0
}