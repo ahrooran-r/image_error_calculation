{
 "cells": [
  {
   "cell_type": "code",
   "execution_count": 8,
   "outputs": [],
   "source": [
    "from ImageAnalysis import ImageAnalysis"
   ],
   "metadata": {
    "collapsed": false,
    "pycharm": {
     "name": "#%%\n"
    }
   }
  },
  {
   "cell_type": "code",
   "execution_count": 12,
   "outputs": [
    {
     "data": {
      "text/plain": "  File_Name       PSNR      SSIM\n0         1  43.763653  0.998086\n1         2  43.763653  0.998086\n2         3  43.763653  0.998086",
      "text/html": "<div>\n<style scoped>\n    .dataframe tbody tr th:only-of-type {\n        vertical-align: middle;\n    }\n\n    .dataframe tbody tr th {\n        vertical-align: top;\n    }\n\n    .dataframe thead th {\n        text-align: right;\n    }\n</style>\n<table border=\"1\" class=\"dataframe\">\n  <thead>\n    <tr style=\"text-align: right;\">\n      <th></th>\n      <th>File_Name</th>\n      <th>PSNR</th>\n      <th>SSIM</th>\n    </tr>\n  </thead>\n  <tbody>\n    <tr>\n      <th>0</th>\n      <td>1</td>\n      <td>43.763653</td>\n      <td>0.998086</td>\n    </tr>\n    <tr>\n      <th>1</th>\n      <td>2</td>\n      <td>43.763653</td>\n      <td>0.998086</td>\n    </tr>\n    <tr>\n      <th>2</th>\n      <td>3</td>\n      <td>43.763653</td>\n      <td>0.998086</td>\n    </tr>\n  </tbody>\n</table>\n</div>"
     },
     "execution_count": 12,
     "metadata": {},
     "output_type": "execute_result"
    }
   ],
   "source": [
    "analysis = ImageAnalysis()\n",
    "analysis.build()\n",
    "\n",
    "analysis.df"
   ],
   "metadata": {
    "collapsed": false,
    "pycharm": {
     "name": "#%%\n"
    }
   }
  },
  {
   "cell_type": "code",
   "execution_count": 15,
   "outputs": [
    {
     "name": "stdout",
     "output_type": "stream",
     "text": [
      "Average PSNR = 43.764\n",
      "Average SSIM = 0.998\n"
     ]
    }
   ],
   "source": [
    "avg_psnr, avg_ssim = analysis.summary()\n",
    "\n",
    "print(f\"Average PSNR = {avg_psnr:.3f}\")\n",
    "print(f\"Average SSIM = {avg_ssim:.3f}\")\n"
   ],
   "metadata": {
    "collapsed": false,
    "pycharm": {
     "name": "#%%\n"
    }
   }
  }
 ],
 "metadata": {
  "kernelspec": {
   "display_name": "Python 3",
   "language": "python",
   "name": "python3"
  },
  "language_info": {
   "codemirror_mode": {
    "name": "ipython",
    "version": 2
   },
   "file_extension": ".py",
   "mimetype": "text/x-python",
   "name": "python",
   "nbconvert_exporter": "python",
   "pygments_lexer": "ipython2",
   "version": "2.7.6"
  }
 },
 "nbformat": 4,
 "nbformat_minor": 0
}